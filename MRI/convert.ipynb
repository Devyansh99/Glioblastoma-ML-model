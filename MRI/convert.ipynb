{
 "cells": [
  {
   "cell_type": "code",
   "execution_count": 1,
   "metadata": {},
   "outputs": [
    {
     "name": "stdout",
     "output_type": "stream",
     "text": [
      "Collecting nibabel\n",
      "  Downloading nibabel-5.3.2-py3-none-any.whl.metadata (9.1 kB)\n",
      "Requirement already satisfied: pydicom in c:\\users\\asp61\\appdata\\local\\programs\\python\\python313\\lib\\site-packages (3.0.1)\n",
      "Requirement already satisfied: numpy>=1.22 in c:\\users\\asp61\\appdata\\local\\programs\\python\\python313\\lib\\site-packages (from nibabel) (2.2.2)\n",
      "Requirement already satisfied: packaging>=20 in c:\\users\\asp61\\appdata\\local\\programs\\python\\python313\\lib\\site-packages (from nibabel) (24.2)\n",
      "Downloading nibabel-5.3.2-py3-none-any.whl (3.3 MB)\n",
      "   ---------------------------------------- 0.0/3.3 MB ? eta -:--:--\n",
      "   ------------ --------------------------- 1.0/3.3 MB 8.7 MB/s eta 0:00:01\n",
      "   ---------------------------------------- 3.3/3.3 MB 10.7 MB/s eta 0:00:00\n",
      "Installing collected packages: nibabel\n",
      "Successfully installed nibabel-5.3.2\n",
      "Note: you may need to restart the kernel to use updated packages.\n"
     ]
    },
    {
     "name": "stderr",
     "output_type": "stream",
     "text": [
      "\n",
      "[notice] A new release of pip is available: 25.0 -> 25.0.1\n",
      "[notice] To update, run: python.exe -m pip install --upgrade pip\n"
     ]
    }
   ],
   "source": [
    "pip install nibabel pydicom"
   ]
  },
  {
   "cell_type": "code",
   "execution_count": 2,
   "metadata": {},
   "outputs": [
    {
     "name": "stdout",
     "output_type": "stream",
     "text": [
      "Converting DICOM files in: E:\\mlpr data\\Glioblastoma-ML-model\\manifest-1669766397961\\UPENN-GBM\\UPENN-GBM-00001\\02-06-2002-NA-BRAINROUTINE-33106\\2.000000-t2Flairaxial ProcessedCaPTk-17693\n",
      "Converting DICOM files in: E:\\mlpr data\\Glioblastoma-ML-model\\manifest-1669766397961\\UPENN-GBM\\UPENN-GBM-00001\\02-06-2002-NA-BRAINROUTINE-41468\\8.000000-ep2ddiffMDDWIPAT-81031\n",
      "Conversion complete!\n"
     ]
    }
   ],
   "source": [
    "import os\n",
    "import subprocess\n",
    "\n",
    "# Paths to the two DICOM folders\n",
    "dicom_folders = [\n",
    "    r\"E:\\mlpr data\\Glioblastoma-ML-model\\manifest-1669766397961\\UPENN-GBM\\UPENN-GBM-00001\\02-06-2002-NA-BRAINROUTINE-33106\\2.000000-t2Flairaxial ProcessedCaPTk-17693\",\n",
    "    r\"E:\\mlpr data\\Glioblastoma-ML-model\\manifest-1669766397961\\UPENN-GBM\\UPENN-GBM-00001\\02-06-2002-NA-BRAINROUTINE-41468\\8.000000-ep2ddiffMDDWIPAT-81031\"\n",
    "]\n",
    "\n",
    "# Path to dcm2niix.exe\n",
    "dcm2niix_path = r\"dcm2niix.exe\"\n",
    "\n",
    "# Output folder for NIfTI files\n",
    "output_folder = r\"Converted_NIfTI\"\n",
    "\n",
    "# Create the output folder if it doesn't exist\n",
    "os.makedirs(output_folder, exist_ok=True)\n",
    "\n",
    "# Convert each DICOM folder to NIfTI\n",
    "for dicom_folder in dicom_folders:\n",
    "    print(f\"Converting DICOM files in: {dicom_folder}\")\n",
    "    \n",
    "    # Run dcm2niix with full path\n",
    "    subprocess.run([dcm2niix_path, \"-o\", output_folder, \"-z\", \"y\", dicom_folder])\n",
    "\n",
    "print(\"Conversion complete!\")"
   ]
  },
  {
   "cell_type": "code",
   "execution_count": null,
   "metadata": {},
   "outputs": [],
   "source": []
  }
 ],
 "metadata": {
  "kernelspec": {
   "display_name": "Python 3",
   "language": "python",
   "name": "python3"
  },
  "language_info": {
   "codemirror_mode": {
    "name": "ipython",
    "version": 3
   },
   "file_extension": ".py",
   "mimetype": "text/x-python",
   "name": "python",
   "nbconvert_exporter": "python",
   "pygments_lexer": "ipython3",
   "version": "3.13.2"
  }
 },
 "nbformat": 4,
 "nbformat_minor": 2
}
