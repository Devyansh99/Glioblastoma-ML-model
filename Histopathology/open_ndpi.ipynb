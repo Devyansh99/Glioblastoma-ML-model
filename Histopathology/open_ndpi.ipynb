{
 "cells": [
  {
   "cell_type": "code",
   "execution_count": 6,
   "metadata": {},
   "outputs": [
    {
     "name": "stdout",
     "output_type": "stream",
     "text": [
      "(145920, 103680)\n",
      "9\n",
      "((145920, 103680), (72960, 51840), (36480, 25920), (18240, 12960), (9120, 6480), (4560, 3240), (2280, 1620), (1140, 810), (570, 405))\n"
     ]
    }
   ],
   "source": [
    "import openslide\n",
    "\n",
    "# Load the .ndpi image\n",
    "slide = openslide.OpenSlide(r\"D:\\mlpr data\\PKG - UPENN-GBM_v2\\data\\7316UP-8.ndpi\")\n",
    "\n",
    "# Check image properties\n",
    "print(slide.dimensions)  # (width, height)\n",
    "print(slide.level_count)  # number of resolution levels\n",
    "print(slide.level_dimensions)  # resolution dimensions for each level\n",
    "\n",
    "# Extract a region from the slide (e.g., top-left corner)\n",
    "# Read a smaller region (e.g., 1000x1000 pixels) from the top-left corner\n",
    "region = slide.read_region((0, 0), 0, (4000, 4000))\n",
    "region.show()\n"
   ]
  },
  {
   "cell_type": "markdown",
   "metadata": {},
   "source": [
    "NPDI to jpg"
   ]
  },
  {
   "cell_type": "code",
   "execution_count": 10,
   "metadata": {},
   "outputs": [
    {
     "name": "stdout",
     "output_type": "stream",
     "text": [
      "Full image saved to D:\\mlpr data\\processed_full_image.png\n"
     ]
    }
   ],
   "source": [
    "import openslide\n",
    "from PIL import Image\n",
    "import numpy as np\n",
    "\n",
    "# Function to downsample, normalize, and save the image\n",
    "def process_and_save_ndpi(ndpi_path, output_path, tile_size=(256, 256), level=3):\n",
    "    # Open the .ndpi slide\n",
    "    slide = openslide.OpenSlide(ndpi_path)\n",
    "    \n",
    "    # Get the dimensions of the whole slide at the selected level\n",
    "    slide_width, slide_height = slide.level_dimensions[level]\n",
    "    \n",
    "    # Create an empty image to combine all tiles (or save them one by one)\n",
    "    total_image = Image.new('RGB', (slide_width, slide_height))\n",
    "\n",
    "    # Iterate over the entire slide in tiles\n",
    "    for x in range(0, slide_width, tile_size[0]):\n",
    "        for y in range(0, slide_height, tile_size[1]):\n",
    "            # Read a small region (tile) from the slide\n",
    "            region = slide.read_region((x, y), level, tile_size)  # Read at the specified resolution level\n",
    "\n",
    "            # Normalize the image (convert to [0, 1] range)\n",
    "            region_array = np.array(region) / 255.0  # Normalize to [0, 1] if values are in [0, 255]\n",
    "\n",
    "            # Convert the numpy array back to a PIL Image (after normalization)\n",
    "            normalized_image = Image.fromarray((region_array * 255).astype(np.uint8))\n",
    "\n",
    "            # Paste the tile into the final image (total_image)\n",
    "            total_image.paste(normalized_image, (x, y))\n",
    "    \n",
    "    # Save the entire downsampled and normalized image\n",
    "    total_image.save(output_path)\n",
    "    print(f\"Full image saved to {output_path}\")\n",
    "\n",
    "# Path to the NDPI file\n",
    "ndpi_path = r\"D:\\mlpr data\\PKG - UPENN-GBM_v2\\data\\7316UP-8.ndpi\"\n",
    "\n",
    "# Path where you want to save the processed image (e.g., output_path)\n",
    "output_path = r\"D:\\mlpr data\\processed_full_image.png\"  # You can change the format as needed (PNG, JPEG)\n",
    "\n",
    "# Call the function to process and save the entire image\n",
    "process_and_save_ndpi(ndpi_path, output_path)\n"
   ]
  },
  {
   "cell_type": "code",
   "execution_count": null,
   "metadata": {},
   "outputs": [],
   "source": []
  }
 ],
 "metadata": {
  "kernelspec": {
   "display_name": "Python 3",
   "language": "python",
   "name": "python3"
  },
  "language_info": {
   "codemirror_mode": {
    "name": "ipython",
    "version": 3
   },
   "file_extension": ".py",
   "mimetype": "text/x-python",
   "name": "python",
   "nbconvert_exporter": "python",
   "pygments_lexer": "ipython3",
   "version": "3.13.2"
  }
 },
 "nbformat": 4,
 "nbformat_minor": 2
}
